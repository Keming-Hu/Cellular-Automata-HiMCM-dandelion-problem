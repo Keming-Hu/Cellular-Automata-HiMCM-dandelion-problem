{
 "cells": [
  {
   "cell_type": "code",
   "execution_count": null,
   "metadata": {},
   "outputs": [],
   "source": [
    "import pandas as pd\n",
    "import matplotlib\n",
    "matplotlib.rc(\"text\", usetex=True)\n",
    "matplotlib.rc(\"font\", family=\"serif\", serif=\"Times New Roman\", size=7.5)\n",
    "matplotlib.rc(\"figure\", autolayout=True, figsize=(4,3))\n",
    "import matplotlib.pyplot as plt"
   ]
  }
 ],
 "metadata": {
  "language_info": {
   "name": "python"
  }
 },
 "nbformat": 4,
 "nbformat_minor": 2
}
